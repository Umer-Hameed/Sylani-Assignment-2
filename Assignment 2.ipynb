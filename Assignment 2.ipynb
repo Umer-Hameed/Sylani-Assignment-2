{
 "cells": [
  {
   "cell_type": "code",
   "execution_count": 2,
   "metadata": {},
   "outputs": [
    {
     "name": "stdout",
     "output_type": "stream",
     "text": [
      "Enter marks of the first subject: 80\n",
      "Enter marks of the second subject: 80\n",
      "Enter marks of the third subject: 80\n",
      "Enter marks of the fourth subject: 90\n",
      "Enter marks of the fifth subject: 90\n",
      "Total marks gained by the student are: 420\n",
      "Grade: A\n"
     ]
    }
   ],
   "source": [
    "a=int(input(\"Enter marks of the first subject: \"))\n",
    "b=int(input(\"Enter marks of the second subject: \"))\n",
    "c=int(input(\"Enter marks of the third subject: \"))\n",
    "d=int(input(\"Enter marks of the fourth subject: \"))\n",
    "e=int(input(\"Enter marks of the fifth subject: \"))\n",
    "T=Total=(a+b+c+d+e)\n",
    "print(f'Total marks gained by the student are: {T}')\n",
    "A=avg=(a+b+c+d+e)/5\n",
    "if(A>=90):\n",
    "    print(\"Grade: A+1\")\n",
    "elif(A>80 or A<90):\n",
    "    print(\"Grade: A\")\n",
    "elif(A>70 or A<80):\n",
    "    print(\"Grade: B\")\n",
    "elif(A>60 or A<70):\n",
    "    print(\"Grade: C\")\n",
    "elif(A>50 or A<60):\n",
    "    print(\"Grade: D\")\n",
    "else:\n",
    "    print(\"Grade: F\")"
   ]
  },
  {
   "cell_type": "code",
   "execution_count": 4,
   "metadata": {},
   "outputs": [
    {
     "name": "stdout",
     "output_type": "stream",
     "text": [
      "Enter your number: 6\n",
      "Number is even\n"
     ]
    }
   ],
   "source": [
    "num=int(input(\"Enter your number: \"))\n",
    "if(num%2==0):\n",
    "    print('Number is even')\n",
    "else:\n",
    "    print('Number is odd')"
   ]
  },
  {
   "cell_type": "code",
   "execution_count": 5,
   "metadata": {},
   "outputs": [
    {
     "data": {
      "text/plain": [
       "6"
      ]
     },
     "execution_count": 5,
     "metadata": {},
     "output_type": "execute_result"
    }
   ],
   "source": [
    "ab=('apple','mango','banana','peach','avocado','pineapple')\n",
    "len(ab)"
   ]
  },
  {
   "cell_type": "code",
   "execution_count": 37,
   "metadata": {},
   "outputs": [
    {
     "data": {
      "text/plain": [
       "903"
      ]
     },
     "execution_count": 37,
     "metadata": {},
     "output_type": "execute_result"
    }
   ],
   "source": [
    "ac=(123,134,145,156,167,178)\n",
    "sum(ac)"
   ]
  },
  {
   "cell_type": "code",
   "execution_count": 38,
   "metadata": {},
   "outputs": [
    {
     "name": "stdout",
     "output_type": "stream",
     "text": [
      "87\n"
     ]
    }
   ],
   "source": [
    "numb = [6,4,33,43,45,87,24]\n",
    "print(max(numb))"
   ]
  },
  {
   "cell_type": "code",
   "execution_count": 52,
   "metadata": {},
   "outputs": [
    {
     "name": "stdout",
     "output_type": "stream",
     "text": [
      "1\n",
      "2\n",
      "3\n",
      "4\n",
      "5\n"
     ]
    }
   ],
   "source": [
    "for i in range(1,200):\n",
    "    if(i<=5):\n",
    "        print(i)"
   ]
  },
  {
   "cell_type": "code",
   "execution_count": null,
   "metadata": {},
   "outputs": [],
   "source": []
  },
  {
   "cell_type": "code",
   "execution_count": null,
   "metadata": {},
   "outputs": [],
   "source": []
  },
  {
   "cell_type": "code",
   "execution_count": null,
   "metadata": {},
   "outputs": [],
   "source": []
  }
 ],
 "metadata": {
  "kernelspec": {
   "display_name": "Python 3",
   "language": "python",
   "name": "python3"
  },
  "language_info": {
   "codemirror_mode": {
    "name": "ipython",
    "version": 3
   },
   "file_extension": ".py",
   "mimetype": "text/x-python",
   "name": "python",
   "nbconvert_exporter": "python",
   "pygments_lexer": "ipython3",
   "version": "3.7.3"
  }
 },
 "nbformat": 4,
 "nbformat_minor": 2
}
